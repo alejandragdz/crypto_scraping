{
 "cells": [
  {
   "cell_type": "markdown",
   "metadata": {},
   "source": [
    "## Análisis de la información obtenida"
   ]
  },
  {
   "cell_type": "markdown",
   "metadata": {},
   "source": [
    "### Importar dataset y convertirlo a DataFrame"
   ]
  },
  {
   "cell_type": "code",
   "execution_count": 35,
   "metadata": {},
   "outputs": [],
   "source": [
    "import pandas as pd\n",
    "crypto_df = pd.read_csv(\"./datasets/cryptodata.csv\")"
   ]
  },
  {
   "cell_type": "markdown",
   "metadata": {},
   "source": [
    "### Revisar a simple vista los primeros registros del conjunto de datos"
   ]
  },
  {
   "cell_type": "code",
   "execution_count": 36,
   "metadata": {},
   "outputs": [
    {
     "data": {
      "text/html": [
       "<div>\n",
       "<style scoped>\n",
       "    .dataframe tbody tr th:only-of-type {\n",
       "        vertical-align: middle;\n",
       "    }\n",
       "\n",
       "    .dataframe tbody tr th {\n",
       "        vertical-align: top;\n",
       "    }\n",
       "\n",
       "    .dataframe thead th {\n",
       "        text-align: right;\n",
       "    }\n",
       "</style>\n",
       "<table border=\"1\" class=\"dataframe\">\n",
       "  <thead>\n",
       "    <tr style=\"text-align: right;\">\n",
       "      <th></th>\n",
       "      <th>acronym</th>\n",
       "      <th>circulating_supply</th>\n",
       "      <th>market_cap</th>\n",
       "      <th>market_cap_currency_exchange</th>\n",
       "      <th>name</th>\n",
       "      <th>price</th>\n",
       "      <th>price_currency_exchange</th>\n",
       "      <th>variance_percent</th>\n",
       "      <th>volume</th>\n",
       "      <th>volume_currency_exchange</th>\n",
       "    </tr>\n",
       "  </thead>\n",
       "  <tbody>\n",
       "    <tr>\n",
       "      <th>0</th>\n",
       "      <td>BTC</td>\n",
       "      <td>19.82 M</td>\n",
       "      <td>1.93 T</td>\n",
       "      <td>USD</td>\n",
       "      <td>Bitcoin</td>\n",
       "      <td>97377.2800</td>\n",
       "      <td>USD</td>\n",
       "      <td>+0.63%</td>\n",
       "      <td>54.94 B</td>\n",
       "      <td>USD</td>\n",
       "    </tr>\n",
       "    <tr>\n",
       "      <th>1</th>\n",
       "      <td>ETH</td>\n",
       "      <td>120.53 M</td>\n",
       "      <td>321.92 B</td>\n",
       "      <td>USD</td>\n",
       "      <td>Ethereum</td>\n",
       "      <td>2670.8300</td>\n",
       "      <td>USD</td>\n",
       "      <td>−1.71%</td>\n",
       "      <td>28.25 B</td>\n",
       "      <td>USD</td>\n",
       "    </tr>\n",
       "    <tr>\n",
       "      <th>2</th>\n",
       "      <td>XRP</td>\n",
       "      <td>57.76 B</td>\n",
       "      <td>142.6 B</td>\n",
       "      <td>USD</td>\n",
       "      <td>XRP</td>\n",
       "      <td>2.4688</td>\n",
       "      <td>USD</td>\n",
       "      <td>+6.05%</td>\n",
       "      <td>9 B</td>\n",
       "      <td>USD</td>\n",
       "    </tr>\n",
       "    <tr>\n",
       "      <th>3</th>\n",
       "      <td>USDT</td>\n",
       "      <td>141.36 B</td>\n",
       "      <td>141.4 B</td>\n",
       "      <td>USD</td>\n",
       "      <td>Tether USDt</td>\n",
       "      <td>1.0003</td>\n",
       "      <td>USD</td>\n",
       "      <td>+0.01%</td>\n",
       "      <td>105.8 B</td>\n",
       "      <td>USD</td>\n",
       "    </tr>\n",
       "    <tr>\n",
       "      <th>4</th>\n",
       "      <td>SOL</td>\n",
       "      <td>487.72 M</td>\n",
       "      <td>96.33 B</td>\n",
       "      <td>USD</td>\n",
       "      <td>Solana</td>\n",
       "      <td>197.5200</td>\n",
       "      <td>USD</td>\n",
       "      <td>+3.07%</td>\n",
       "      <td>4.64 B</td>\n",
       "      <td>USD</td>\n",
       "    </tr>\n",
       "  </tbody>\n",
       "</table>\n",
       "</div>"
      ],
      "text/plain": [
       "  acronym circulating_supply market_cap market_cap_currency_exchange  \\\n",
       "0     BTC            19.82 M     1.93 T                          USD   \n",
       "1     ETH           120.53 M   321.92 B                          USD   \n",
       "2     XRP            57.76 B    142.6 B                          USD   \n",
       "3    USDT           141.36 B    141.4 B                          USD   \n",
       "4     SOL           487.72 M    96.33 B                          USD   \n",
       "\n",
       "          name       price price_currency_exchange variance_percent   volume  \\\n",
       "0      Bitcoin  97377.2800                     USD           +0.63%  54.94 B   \n",
       "1     Ethereum   2670.8300                     USD           −1.71%  28.25 B   \n",
       "2          XRP      2.4688                     USD           +6.05%      9 B   \n",
       "3  Tether USDt      1.0003                     USD           +0.01%  105.8 B   \n",
       "4       Solana    197.5200                     USD           +3.07%   4.64 B   \n",
       "\n",
       "  volume_currency_exchange  \n",
       "0                      USD  \n",
       "1                      USD  \n",
       "2                      USD  \n",
       "3                      USD  \n",
       "4                      USD  "
      ]
     },
     "execution_count": 36,
     "metadata": {},
     "output_type": "execute_result"
    }
   ],
   "source": [
    "crypto_df.head(5)"
   ]
  },
  {
   "cell_type": "markdown",
   "metadata": {},
   "source": [
    "### Reordear las columnas"
   ]
  },
  {
   "cell_type": "code",
   "execution_count": 37,
   "metadata": {},
   "outputs": [
    {
     "data": {
      "text/html": [
       "<div>\n",
       "<style scoped>\n",
       "    .dataframe tbody tr th:only-of-type {\n",
       "        vertical-align: middle;\n",
       "    }\n",
       "\n",
       "    .dataframe tbody tr th {\n",
       "        vertical-align: top;\n",
       "    }\n",
       "\n",
       "    .dataframe thead th {\n",
       "        text-align: right;\n",
       "    }\n",
       "</style>\n",
       "<table border=\"1\" class=\"dataframe\">\n",
       "  <thead>\n",
       "    <tr style=\"text-align: right;\">\n",
       "      <th></th>\n",
       "      <th>acronym</th>\n",
       "      <th>name</th>\n",
       "      <th>price</th>\n",
       "      <th>price_currency_exchange</th>\n",
       "      <th>variance_percent</th>\n",
       "      <th>market_cap</th>\n",
       "      <th>market_cap_currency_exchange</th>\n",
       "      <th>volume</th>\n",
       "      <th>volume_currency_exchange</th>\n",
       "      <th>circulating_supply</th>\n",
       "    </tr>\n",
       "  </thead>\n",
       "  <tbody>\n",
       "    <tr>\n",
       "      <th>0</th>\n",
       "      <td>BTC</td>\n",
       "      <td>Bitcoin</td>\n",
       "      <td>97377.2800</td>\n",
       "      <td>USD</td>\n",
       "      <td>+0.63%</td>\n",
       "      <td>1.93 T</td>\n",
       "      <td>USD</td>\n",
       "      <td>54.94 B</td>\n",
       "      <td>USD</td>\n",
       "      <td>19.82 M</td>\n",
       "    </tr>\n",
       "    <tr>\n",
       "      <th>1</th>\n",
       "      <td>ETH</td>\n",
       "      <td>Ethereum</td>\n",
       "      <td>2670.8300</td>\n",
       "      <td>USD</td>\n",
       "      <td>−1.71%</td>\n",
       "      <td>321.92 B</td>\n",
       "      <td>USD</td>\n",
       "      <td>28.25 B</td>\n",
       "      <td>USD</td>\n",
       "      <td>120.53 M</td>\n",
       "    </tr>\n",
       "    <tr>\n",
       "      <th>2</th>\n",
       "      <td>XRP</td>\n",
       "      <td>XRP</td>\n",
       "      <td>2.4688</td>\n",
       "      <td>USD</td>\n",
       "      <td>+6.05%</td>\n",
       "      <td>142.6 B</td>\n",
       "      <td>USD</td>\n",
       "      <td>9 B</td>\n",
       "      <td>USD</td>\n",
       "      <td>57.76 B</td>\n",
       "    </tr>\n",
       "    <tr>\n",
       "      <th>3</th>\n",
       "      <td>USDT</td>\n",
       "      <td>Tether USDt</td>\n",
       "      <td>1.0003</td>\n",
       "      <td>USD</td>\n",
       "      <td>+0.01%</td>\n",
       "      <td>141.4 B</td>\n",
       "      <td>USD</td>\n",
       "      <td>105.8 B</td>\n",
       "      <td>USD</td>\n",
       "      <td>141.36 B</td>\n",
       "    </tr>\n",
       "    <tr>\n",
       "      <th>4</th>\n",
       "      <td>SOL</td>\n",
       "      <td>Solana</td>\n",
       "      <td>197.5200</td>\n",
       "      <td>USD</td>\n",
       "      <td>+3.07%</td>\n",
       "      <td>96.33 B</td>\n",
       "      <td>USD</td>\n",
       "      <td>4.64 B</td>\n",
       "      <td>USD</td>\n",
       "      <td>487.72 M</td>\n",
       "    </tr>\n",
       "  </tbody>\n",
       "</table>\n",
       "</div>"
      ],
      "text/plain": [
       "  acronym         name       price price_currency_exchange variance_percent  \\\n",
       "0     BTC      Bitcoin  97377.2800                     USD           +0.63%   \n",
       "1     ETH     Ethereum   2670.8300                     USD           −1.71%   \n",
       "2     XRP          XRP      2.4688                     USD           +6.05%   \n",
       "3    USDT  Tether USDt      1.0003                     USD           +0.01%   \n",
       "4     SOL       Solana    197.5200                     USD           +3.07%   \n",
       "\n",
       "  market_cap market_cap_currency_exchange   volume volume_currency_exchange  \\\n",
       "0     1.93 T                          USD  54.94 B                      USD   \n",
       "1   321.92 B                          USD  28.25 B                      USD   \n",
       "2    142.6 B                          USD      9 B                      USD   \n",
       "3    141.4 B                          USD  105.8 B                      USD   \n",
       "4    96.33 B                          USD   4.64 B                      USD   \n",
       "\n",
       "  circulating_supply  \n",
       "0            19.82 M  \n",
       "1           120.53 M  \n",
       "2            57.76 B  \n",
       "3           141.36 B  \n",
       "4           487.72 M  "
      ]
     },
     "execution_count": 37,
     "metadata": {},
     "output_type": "execute_result"
    }
   ],
   "source": [
    "crypto_df = crypto_df.reindex(['acronym', 'name', 'price', 'price_currency_exchange', 'variance_percent', 'market_cap', 'market_cap_currency_exchange', 'volume', 'volume_currency_exchange', 'circulating_supply'], axis=1)\n",
    "crypto_df.head(5)"
   ]
  },
  {
   "cell_type": "markdown",
   "metadata": {},
   "source": [
    "### Mostrar las dimensiones del DataFrame"
   ]
  },
  {
   "cell_type": "code",
   "execution_count": 38,
   "metadata": {},
   "outputs": [
    {
     "data": {
      "text/plain": [
       "(99, 10)"
      ]
     },
     "execution_count": 38,
     "metadata": {},
     "output_type": "execute_result"
    }
   ],
   "source": [
    "crypto_df.shape"
   ]
  },
  {
   "cell_type": "markdown",
   "metadata": {},
   "source": [
    "### Verificar el tipo de dato de cada columna"
   ]
  },
  {
   "cell_type": "code",
   "execution_count": 39,
   "metadata": {},
   "outputs": [
    {
     "data": {
      "text/plain": [
       "acronym                          object\n",
       "name                             object\n",
       "price                           float64\n",
       "price_currency_exchange          object\n",
       "variance_percent                 object\n",
       "market_cap                       object\n",
       "market_cap_currency_exchange     object\n",
       "volume                           object\n",
       "volume_currency_exchange         object\n",
       "circulating_supply               object\n",
       "dtype: object"
      ]
     },
     "execution_count": 39,
     "metadata": {},
     "output_type": "execute_result"
    }
   ],
   "source": [
    "crypto_df.dtypes"
   ]
  },
  {
   "cell_type": "markdown",
   "metadata": {},
   "source": [
    "### Resumen detallado del contenido del DataFrame (Cantidad de valores no nulos en cada columna)"
   ]
  },
  {
   "cell_type": "code",
   "execution_count": 40,
   "metadata": {},
   "outputs": [
    {
     "name": "stdout",
     "output_type": "stream",
     "text": [
      "<class 'pandas.core.frame.DataFrame'>\n",
      "RangeIndex: 99 entries, 0 to 98\n",
      "Data columns (total 10 columns):\n",
      " #   Column                        Non-Null Count  Dtype  \n",
      "---  ------                        --------------  -----  \n",
      " 0   acronym                       99 non-null     object \n",
      " 1   name                          99 non-null     object \n",
      " 2   price                         99 non-null     float64\n",
      " 3   price_currency_exchange       99 non-null     object \n",
      " 4   variance_percent              99 non-null     object \n",
      " 5   market_cap                    99 non-null     object \n",
      " 6   market_cap_currency_exchange  99 non-null     object \n",
      " 7   volume                        99 non-null     object \n",
      " 8   volume_currency_exchange      99 non-null     object \n",
      " 9   circulating_supply            99 non-null     object \n",
      "dtypes: float64(1), object(9)\n",
      "memory usage: 7.9+ KB\n"
     ]
    }
   ],
   "source": [
    "crypto_df.info()"
   ]
  },
  {
   "cell_type": "markdown",
   "metadata": {},
   "source": [
    "### Listar las columnas"
   ]
  },
  {
   "cell_type": "code",
   "execution_count": 41,
   "metadata": {},
   "outputs": [
    {
     "data": {
      "text/plain": [
       "Index(['acronym', 'name', 'price', 'price_currency_exchange',\n",
       "       'variance_percent', 'market_cap', 'market_cap_currency_exchange',\n",
       "       'volume', 'volume_currency_exchange', 'circulating_supply'],\n",
       "      dtype='object')"
      ]
     },
     "execution_count": 41,
     "metadata": {},
     "output_type": "execute_result"
    }
   ],
   "source": [
    "crypto_df.columns"
   ]
  },
  {
   "cell_type": "markdown",
   "metadata": {},
   "source": [
    "### Generar estadísticas descriptivas del DataFrame. \n",
    "#### Incluye información como promedios, desviaciones estándar (std), valores mínimos y máximos, entre otros."
   ]
  },
  {
   "cell_type": "code",
   "execution_count": 42,
   "metadata": {},
   "outputs": [
    {
     "data": {
      "text/html": [
       "<div>\n",
       "<style scoped>\n",
       "    .dataframe tbody tr th:only-of-type {\n",
       "        vertical-align: middle;\n",
       "    }\n",
       "\n",
       "    .dataframe tbody tr th {\n",
       "        vertical-align: top;\n",
       "    }\n",
       "\n",
       "    .dataframe thead th {\n",
       "        text-align: right;\n",
       "    }\n",
       "</style>\n",
       "<table border=\"1\" class=\"dataframe\">\n",
       "  <thead>\n",
       "    <tr style=\"text-align: right;\">\n",
       "      <th></th>\n",
       "      <th>count</th>\n",
       "      <th>mean</th>\n",
       "      <th>std</th>\n",
       "      <th>min</th>\n",
       "      <th>25%</th>\n",
       "      <th>50%</th>\n",
       "      <th>75%</th>\n",
       "      <th>max</th>\n",
       "    </tr>\n",
       "  </thead>\n",
       "  <tbody>\n",
       "    <tr>\n",
       "      <th>price</th>\n",
       "      <td>99.0</td>\n",
       "      <td>1074.34381</td>\n",
       "      <td>9786.025939</td>\n",
       "      <td>8.656900e-07</td>\n",
       "      <td>0.360415</td>\n",
       "      <td>1.1722</td>\n",
       "      <td>10.2477</td>\n",
       "      <td>97377.28</td>\n",
       "    </tr>\n",
       "  </tbody>\n",
       "</table>\n",
       "</div>"
      ],
      "text/plain": [
       "       count        mean          std           min       25%     50%  \\\n",
       "price   99.0  1074.34381  9786.025939  8.656900e-07  0.360415  1.1722   \n",
       "\n",
       "           75%       max  \n",
       "price  10.2477  97377.28  "
      ]
     },
     "execution_count": 42,
     "metadata": {},
     "output_type": "execute_result"
    }
   ],
   "source": [
    "crypto_df.describe().T"
   ]
  },
  {
   "cell_type": "markdown",
   "metadata": {},
   "source": [
    "### Para las variables categóricas"
   ]
  },
  {
   "cell_type": "code",
   "execution_count": 43,
   "metadata": {},
   "outputs": [
    {
     "data": {
      "text/html": [
       "<div>\n",
       "<style scoped>\n",
       "    .dataframe tbody tr th:only-of-type {\n",
       "        vertical-align: middle;\n",
       "    }\n",
       "\n",
       "    .dataframe tbody tr th {\n",
       "        vertical-align: top;\n",
       "    }\n",
       "\n",
       "    .dataframe thead th {\n",
       "        text-align: right;\n",
       "    }\n",
       "</style>\n",
       "<table border=\"1\" class=\"dataframe\">\n",
       "  <thead>\n",
       "    <tr style=\"text-align: right;\">\n",
       "      <th></th>\n",
       "      <th>count</th>\n",
       "      <th>unique</th>\n",
       "      <th>top</th>\n",
       "      <th>freq</th>\n",
       "    </tr>\n",
       "  </thead>\n",
       "  <tbody>\n",
       "    <tr>\n",
       "      <th>acronym</th>\n",
       "      <td>99</td>\n",
       "      <td>99</td>\n",
       "      <td>BTC</td>\n",
       "      <td>1</td>\n",
       "    </tr>\n",
       "    <tr>\n",
       "      <th>name</th>\n",
       "      <td>99</td>\n",
       "      <td>99</td>\n",
       "      <td>Bitcoin</td>\n",
       "      <td>1</td>\n",
       "    </tr>\n",
       "    <tr>\n",
       "      <th>price_currency_exchange</th>\n",
       "      <td>99</td>\n",
       "      <td>1</td>\n",
       "      <td>USD</td>\n",
       "      <td>99</td>\n",
       "    </tr>\n",
       "    <tr>\n",
       "      <th>variance_percent</th>\n",
       "      <td>99</td>\n",
       "      <td>93</td>\n",
       "      <td>+3.79%</td>\n",
       "      <td>2</td>\n",
       "    </tr>\n",
       "    <tr>\n",
       "      <th>market_cap</th>\n",
       "      <td>99</td>\n",
       "      <td>94</td>\n",
       "      <td>1.36 B</td>\n",
       "      <td>2</td>\n",
       "    </tr>\n",
       "    <tr>\n",
       "      <th>market_cap_currency_exchange</th>\n",
       "      <td>99</td>\n",
       "      <td>1</td>\n",
       "      <td>USD</td>\n",
       "      <td>99</td>\n",
       "    </tr>\n",
       "    <tr>\n",
       "      <th>volume</th>\n",
       "      <td>99</td>\n",
       "      <td>99</td>\n",
       "      <td>54.94 B</td>\n",
       "      <td>1</td>\n",
       "    </tr>\n",
       "    <tr>\n",
       "      <th>volume_currency_exchange</th>\n",
       "      <td>99</td>\n",
       "      <td>1</td>\n",
       "      <td>USD</td>\n",
       "      <td>99</td>\n",
       "    </tr>\n",
       "    <tr>\n",
       "      <th>circulating_supply</th>\n",
       "      <td>99</td>\n",
       "      <td>97</td>\n",
       "      <td>19.82 M</td>\n",
       "      <td>2</td>\n",
       "    </tr>\n",
       "  </tbody>\n",
       "</table>\n",
       "</div>"
      ],
      "text/plain": [
       "                             count unique      top freq\n",
       "acronym                         99     99      BTC    1\n",
       "name                            99     99  Bitcoin    1\n",
       "price_currency_exchange         99      1      USD   99\n",
       "variance_percent                99     93   +3.79%    2\n",
       "market_cap                      99     94   1.36 B    2\n",
       "market_cap_currency_exchange    99      1      USD   99\n",
       "volume                          99     99  54.94 B    1\n",
       "volume_currency_exchange        99      1      USD   99\n",
       "circulating_supply              99     97  19.82 M    2"
      ]
     },
     "execution_count": 43,
     "metadata": {},
     "output_type": "execute_result"
    }
   ],
   "source": [
    "crypto_df.describe(include='O').T"
   ]
  },
  {
   "cell_type": "markdown",
   "metadata": {},
   "source": [
    "### Determinar cuántos valores faltan en cada columna."
   ]
  },
  {
   "cell_type": "code",
   "execution_count": 44,
   "metadata": {},
   "outputs": [
    {
     "data": {
      "text/plain": [
       "acronym                         0\n",
       "name                            0\n",
       "price                           0\n",
       "price_currency_exchange         0\n",
       "variance_percent                0\n",
       "market_cap                      0\n",
       "market_cap_currency_exchange    0\n",
       "volume                          0\n",
       "volume_currency_exchange        0\n",
       "circulating_supply              0\n",
       "dtype: int64"
      ]
     },
     "execution_count": 44,
     "metadata": {},
     "output_type": "execute_result"
    }
   ],
   "source": [
    "crypto_df.isna().sum()"
   ]
  },
  {
   "cell_type": "markdown",
   "metadata": {},
   "source": [
    "### Promedio de valores faltantes"
   ]
  },
  {
   "cell_type": "code",
   "execution_count": 45,
   "metadata": {},
   "outputs": [
    {
     "data": {
      "text/plain": [
       "acronym                         0.0\n",
       "name                            0.0\n",
       "price                           0.0\n",
       "price_currency_exchange         0.0\n",
       "variance_percent                0.0\n",
       "market_cap                      0.0\n",
       "market_cap_currency_exchange    0.0\n",
       "volume                          0.0\n",
       "volume_currency_exchange        0.0\n",
       "circulating_supply              0.0\n",
       "dtype: float64"
      ]
     },
     "execution_count": 45,
     "metadata": {},
     "output_type": "execute_result"
    }
   ],
   "source": [
    "crypto_df.isna().mean()"
   ]
  }
 ],
 "metadata": {
  "kernelspec": {
   "display_name": "crypto_project",
   "language": "python",
   "name": "python3"
  },
  "language_info": {
   "codemirror_mode": {
    "name": "ipython",
    "version": 3
   },
   "file_extension": ".py",
   "mimetype": "text/x-python",
   "name": "python",
   "nbconvert_exporter": "python",
   "pygments_lexer": "ipython3",
   "version": "3.13.2"
  }
 },
 "nbformat": 4,
 "nbformat_minor": 2
}
